{
 "cells": [
  {
   "cell_type": "code",
   "execution_count": 1,
   "metadata": {},
   "outputs": [],
   "source": [
    "def Conj(x):\n",
    "    return x.replace('I', '(-I)')\n",
    "def Mult(x, y):\n",
    "    return f'({x})*({y})'\n",
    "def Add(x, y):\n",
    "    return f'({x}) + ({y})'"
   ]
  },
  {
   "cell_type": "code",
   "execution_count": 2,
   "metadata": {},
   "outputs": [],
   "source": [
    "def sinusoid(x, n):\n",
    "    if x == 0:\n",
    "        return f\"Cos[Θ{n}]\"\n",
    "    else:\n",
    "        return f\"I*Sin[Θ{n}]\"\n",
    "def gen_terms(u, v): \n",
    "    terms = []\n",
    "    for u1 in [0, 1]:\n",
    "        for u2 in [0, 1]:\n",
    "            for w1 in [0, 1]:\n",
    "                for w2 in [0, 1]:\n",
    "                    for v1 in [0, 1]:\n",
    "                        for v2 in [0, 1]:\n",
    "                            if (u1 + u2)%2 == u and (w1 + w2 + v1 + v2)%2 == v:\n",
    "                                term = f\"{(-1)**(w2*u2 + (v2+w1+w2)*u1)}*n2{u1}{v1}*n1{u2}{v2}*{sinusoid(w1, 2)}*{sinusoid(w2, 1)}\"\n",
    "                                # Recast this in terms of the coefficients of the normal unitary decomposition.\n",
    "                                term = Mult(f\"I^{u1+u2+v1+v2}\", term)\n",
    "                                terms.append(term)\n",
    "    return terms"
   ]
  },
  {
   "cell_type": "markdown",
   "metadata": {},
   "source": [
    "# Terms proportional to the Identity"
   ]
  },
  {
   "cell_type": "code",
   "execution_count": 3,
   "metadata": {},
   "outputs": [],
   "source": [
    "I = ' + '.join(gen_terms(0, 0))\n",
    "IConj = Conj(I)"
   ]
  },
  {
   "cell_type": "markdown",
   "metadata": {},
   "source": [
    "# Terms proportional to Z"
   ]
  },
  {
   "cell_type": "code",
   "execution_count": 4,
   "metadata": {},
   "outputs": [],
   "source": [
    "Z = ' + '.join(gen_terms(0, 1))\n",
    "ZConj = Conj(Z)"
   ]
  },
  {
   "cell_type": "markdown",
   "metadata": {},
   "source": [
    "# Terms proportional to X"
   ]
  },
  {
   "cell_type": "code",
   "execution_count": 5,
   "metadata": {},
   "outputs": [],
   "source": [
    "X = ' + '.join(gen_terms(1, 0))\n",
    "XConj = Conj(X)"
   ]
  },
  {
   "cell_type": "markdown",
   "metadata": {},
   "source": [
    "# Terms proportional to -iY"
   ]
  },
  {
   "cell_type": "code",
   "execution_count": 6,
   "metadata": {},
   "outputs": [],
   "source": [
    "niY = ' + '.join(gen_terms(1, 1))"
   ]
  },
  {
   "cell_type": "markdown",
   "metadata": {},
   "source": [
    "# Terms proportional to Y"
   ]
  },
  {
   "cell_type": "code",
   "execution_count": 7,
   "metadata": {},
   "outputs": [],
   "source": [
    "Y = Mult('I', niY)\n",
    "YConj = Conj(Y)"
   ]
  },
  {
   "cell_type": "markdown",
   "metadata": {},
   "source": [
    "# Terms proportional to [Y, X/2] (IZX, XZI, ZZY, YZZ)"
   ]
  },
  {
   "cell_type": "code",
   "execution_count": 8,
   "metadata": {},
   "outputs": [
    {
     "data": {
      "text/plain": [
       "'(-I)*((((-I)^0)*(1*n200*n100*Cos[Θ2]*Cos[Θ1]) + ((-I)^2)*(1*n201*n101*Cos[Θ2]*Cos[Θ1]) + ((-I)^1)*(1*n200*n101*Cos[Θ2]*(-I)*Sin[Θ1]) + ((-I)^1)*(1*n201*n100*Cos[Θ2]*(-I)*Sin[Θ1]) + ((-I)^1)*(1*n200*n101*(-I)*Sin[Θ2]*Cos[Θ1]) + ((-I)^1)*(1*n201*n100*(-I)*Sin[Θ2]*Cos[Θ1]) + ((-I)^0)*(1*n200*n100*(-I)*Sin[Θ2]*(-I)*Sin[Θ1]) + ((-I)^2)*(1*n201*n101*(-I)*Sin[Θ2]*(-I)*Sin[Θ1]) + ((-I)^2)*(1*n210*n110*Cos[Θ2]*Cos[Θ1]) + ((-I)^4)*(-1*n211*n111*Cos[Θ2]*Cos[Θ1]) + ((-I)^3)*(-1*n210*n111*Cos[Θ2]*(-I)*Sin[Θ1]) + ((-I)^3)*(1*n211*n110*Cos[Θ2]*(-I)*Sin[Θ1]) + ((-I)^3)*(1*n210*n111*(-I)*Sin[Θ2]*Cos[Θ1]) + ((-I)^3)*(-1*n211*n110*(-I)*Sin[Θ2]*Cos[Θ1]) + ((-I)^2)*(-1*n210*n110*(-I)*Sin[Θ2]*(-I)*Sin[Θ1]) + ((-I)^4)*(1*n211*n111*(-I)*Sin[Θ2]*(-I)*Sin[Θ1]))*((I^1)*(1*n200*n110*Cos[Θ2]*Cos[Θ1]) + (I^3)*(1*n201*n111*Cos[Θ2]*Cos[Θ1]) + (I^2)*(-1*n200*n111*Cos[Θ2]*I*Sin[Θ1]) + (I^2)*(-1*n201*n110*Cos[Θ2]*I*Sin[Θ1]) + (I^2)*(1*n200*n111*I*Sin[Θ2]*Cos[Θ1]) + (I^2)*(1*n201*n110*I*Sin[Θ2]*Cos[Θ1]) + (I^1)*(-1*n200*n110*I*Sin[Θ2]*I*Sin[Θ1]) + (I^3)*(-1*n201*n111*I*Sin[Θ2]*I*Sin[Θ1]) + (I^1)*(1*n210*n100*Cos[Θ2]*Cos[Θ1]) + (I^3)*(-1*n211*n101*Cos[Θ2]*Cos[Θ1]) + (I^2)*(1*n210*n101*Cos[Θ2]*I*Sin[Θ1]) + (I^2)*(-1*n211*n100*Cos[Θ2]*I*Sin[Θ1]) + (I^2)*(1*n210*n101*I*Sin[Θ2]*Cos[Θ1]) + (I^2)*(-1*n211*n100*I*Sin[Θ2]*Cos[Θ1]) + (I^1)*(1*n210*n100*I*Sin[Θ2]*I*Sin[Θ1]) + (I^3)*(-1*n211*n101*I*Sin[Θ2]*I*Sin[Θ1]))) + (I)*((((-I)^1)*(1*n200*n110*Cos[Θ2]*Cos[Θ1]) + ((-I)^3)*(1*n201*n111*Cos[Θ2]*Cos[Θ1]) + ((-I)^2)*(-1*n200*n111*Cos[Θ2]*(-I)*Sin[Θ1]) + ((-I)^2)*(-1*n201*n110*Cos[Θ2]*(-I)*Sin[Θ1]) + ((-I)^2)*(1*n200*n111*(-I)*Sin[Θ2]*Cos[Θ1]) + ((-I)^2)*(1*n201*n110*(-I)*Sin[Θ2]*Cos[Θ1]) + ((-I)^1)*(-1*n200*n110*(-I)*Sin[Θ2]*(-I)*Sin[Θ1]) + ((-I)^3)*(-1*n201*n111*(-I)*Sin[Θ2]*(-I)*Sin[Θ1]) + ((-I)^1)*(1*n210*n100*Cos[Θ2]*Cos[Θ1]) + ((-I)^3)*(-1*n211*n101*Cos[Θ2]*Cos[Θ1]) + ((-I)^2)*(1*n210*n101*Cos[Θ2]*(-I)*Sin[Θ1]) + ((-I)^2)*(-1*n211*n100*Cos[Θ2]*(-I)*Sin[Θ1]) + ((-I)^2)*(1*n210*n101*(-I)*Sin[Θ2]*Cos[Θ1]) + ((-I)^2)*(-1*n211*n100*(-I)*Sin[Θ2]*Cos[Θ1]) + ((-I)^1)*(1*n210*n100*(-I)*Sin[Θ2]*(-I)*Sin[Θ1]) + ((-I)^3)*(-1*n211*n101*(-I)*Sin[Θ2]*(-I)*Sin[Θ1]))*((I^0)*(1*n200*n100*Cos[Θ2]*Cos[Θ1]) + (I^2)*(1*n201*n101*Cos[Θ2]*Cos[Θ1]) + (I^1)*(1*n200*n101*Cos[Θ2]*I*Sin[Θ1]) + (I^1)*(1*n201*n100*Cos[Θ2]*I*Sin[Θ1]) + (I^1)*(1*n200*n101*I*Sin[Θ2]*Cos[Θ1]) + (I^1)*(1*n201*n100*I*Sin[Θ2]*Cos[Θ1]) + (I^0)*(1*n200*n100*I*Sin[Θ2]*I*Sin[Θ1]) + (I^2)*(1*n201*n101*I*Sin[Θ2]*I*Sin[Θ1]) + (I^2)*(1*n210*n110*Cos[Θ2]*Cos[Θ1]) + (I^4)*(-1*n211*n111*Cos[Θ2]*Cos[Θ1]) + (I^3)*(-1*n210*n111*Cos[Θ2]*I*Sin[Θ1]) + (I^3)*(1*n211*n110*Cos[Θ2]*I*Sin[Θ1]) + (I^3)*(1*n210*n111*I*Sin[Θ2]*Cos[Θ1]) + (I^3)*(-1*n211*n110*I*Sin[Θ2]*Cos[Θ1]) + (I^2)*(-1*n210*n110*I*Sin[Θ2]*I*Sin[Θ1]) + (I^4)*(1*n211*n111*I*Sin[Θ2]*I*Sin[Θ1]))) + (((-I)^1)*(1*n200*n101*Cos[Θ2]*Cos[Θ1]) + ((-I)^1)*(1*n201*n100*Cos[Θ2]*Cos[Θ1]) + ((-I)^0)*(1*n200*n100*Cos[Θ2]*(-I)*Sin[Θ1]) + ((-I)^2)*(1*n201*n101*Cos[Θ2]*(-I)*Sin[Θ1]) + ((-I)^0)*(1*n200*n100*(-I)*Sin[Θ2]*Cos[Θ1]) + ((-I)^2)*(1*n201*n101*(-I)*Sin[Θ2]*Cos[Θ1]) + ((-I)^1)*(1*n200*n101*(-I)*Sin[Θ2]*(-I)*Sin[Θ1]) + ((-I)^1)*(1*n201*n100*(-I)*Sin[Θ2]*(-I)*Sin[Θ1]) + ((-I)^3)*(-1*n210*n111*Cos[Θ2]*Cos[Θ1]) + ((-I)^3)*(1*n211*n110*Cos[Θ2]*Cos[Θ1]) + ((-I)^2)*(1*n210*n110*Cos[Θ2]*(-I)*Sin[Θ1]) + ((-I)^4)*(-1*n211*n111*Cos[Θ2]*(-I)*Sin[Θ1]) + ((-I)^2)*(-1*n210*n110*(-I)*Sin[Θ2]*Cos[Θ1]) + ((-I)^4)*(1*n211*n111*(-I)*Sin[Θ2]*Cos[Θ1]) + ((-I)^3)*(1*n210*n111*(-I)*Sin[Θ2]*(-I)*Sin[Θ1]) + ((-I)^3)*(-1*n211*n110*(-I)*Sin[Θ2]*(-I)*Sin[Θ1]))*((I)*((I^2)*(1*n200*n111*Cos[Θ2]*Cos[Θ1]) + (I^2)*(1*n201*n110*Cos[Θ2]*Cos[Θ1]) + (I^1)*(-1*n200*n110*Cos[Θ2]*I*Sin[Θ1]) + (I^3)*(-1*n201*n111*Cos[Θ2]*I*Sin[Θ1]) + (I^1)*(1*n200*n110*I*Sin[Θ2]*Cos[Θ1]) + (I^3)*(1*n201*n111*I*Sin[Θ2]*Cos[Θ1]) + (I^2)*(-1*n200*n111*I*Sin[Θ2]*I*Sin[Θ1]) + (I^2)*(-1*n201*n110*I*Sin[Θ2]*I*Sin[Θ1]) + (I^2)*(-1*n210*n101*Cos[Θ2]*Cos[Θ1]) + (I^2)*(1*n211*n100*Cos[Θ2]*Cos[Θ1]) + (I^1)*(-1*n210*n100*Cos[Θ2]*I*Sin[Θ1]) + (I^3)*(1*n211*n101*Cos[Θ2]*I*Sin[Θ1]) + (I^1)*(-1*n210*n100*I*Sin[Θ2]*Cos[Θ1]) + (I^3)*(1*n211*n101*I*Sin[Θ2]*Cos[Θ1]) + (I^2)*(-1*n210*n101*I*Sin[Θ2]*I*Sin[Θ1]) + (I^2)*(1*n211*n100*I*Sin[Θ2]*I*Sin[Θ1]))) + (((-I))*(((-I)^2)*(1*n200*n111*Cos[Θ2]*Cos[Θ1]) + ((-I)^2)*(1*n201*n110*Cos[Θ2]*Cos[Θ1]) + ((-I)^1)*(-1*n200*n110*Cos[Θ2]*(-I)*Sin[Θ1]) + ((-I)^3)*(-1*n201*n111*Cos[Θ2]*(-I)*Sin[Θ1]) + ((-I)^1)*(1*n200*n110*(-I)*Sin[Θ2]*Cos[Θ1]) + ((-I)^3)*(1*n201*n111*(-I)*Sin[Θ2]*Cos[Θ1]) + ((-I)^2)*(-1*n200*n111*(-I)*Sin[Θ2]*(-I)*Sin[Θ1]) + ((-I)^2)*(-1*n201*n110*(-I)*Sin[Θ2]*(-I)*Sin[Θ1]) + ((-I)^2)*(-1*n210*n101*Cos[Θ2]*Cos[Θ1]) + ((-I)^2)*(1*n211*n100*Cos[Θ2]*Cos[Θ1]) + ((-I)^1)*(-1*n210*n100*Cos[Θ2]*(-I)*Sin[Θ1]) + ((-I)^3)*(1*n211*n101*Cos[Θ2]*(-I)*Sin[Θ1]) + ((-I)^1)*(-1*n210*n100*(-I)*Sin[Θ2]*Cos[Θ1]) + ((-I)^3)*(1*n211*n101*(-I)*Sin[Θ2]*Cos[Θ1]) + ((-I)^2)*(-1*n210*n101*(-I)*Sin[Θ2]*(-I)*Sin[Θ1]) + ((-I)^2)*(1*n211*n100*(-I)*Sin[Θ2]*(-I)*Sin[Θ1])))*((I^1)*(1*n200*n101*Cos[Θ2]*Cos[Θ1]) + (I^1)*(1*n201*n100*Cos[Θ2]*Cos[Θ1]) + (I^0)*(1*n200*n100*Cos[Θ2]*I*Sin[Θ1]) + (I^2)*(1*n201*n101*Cos[Θ2]*I*Sin[Θ1]) + (I^0)*(1*n200*n100*I*Sin[Θ2]*Cos[Θ1]) + (I^2)*(1*n201*n101*I*Sin[Θ2]*Cos[Θ1]) + (I^1)*(1*n200*n101*I*Sin[Θ2]*I*Sin[Θ1]) + (I^1)*(1*n201*n100*I*Sin[Θ2]*I*Sin[Θ1]) + (I^3)*(-1*n210*n111*Cos[Θ2]*Cos[Θ1]) + (I^3)*(1*n211*n110*Cos[Θ2]*Cos[Θ1]) + (I^2)*(1*n210*n110*Cos[Θ2]*I*Sin[Θ1]) + (I^4)*(-1*n211*n111*Cos[Θ2]*I*Sin[Θ1]) + (I^2)*(-1*n210*n110*I*Sin[Θ2]*Cos[Θ1]) + (I^4)*(1*n211*n111*I*Sin[Θ2]*Cos[Θ1]) + (I^3)*(1*n210*n111*I*Sin[Θ2]*I*Sin[Θ1]) + (I^3)*(-1*n211*n110*I*Sin[Θ2]*I*Sin[Θ1]))'"
      ]
     },
     "execution_count": 8,
     "metadata": {},
     "output_type": "execute_result"
    }
   ],
   "source": [
    "' + '.join([Mult('-I', Mult(Conj(I), X)), Mult('I', Mult(Conj(X), I)), Mult(Conj(Z), Y), Mult(Conj(Y), Z)])"
   ]
  },
  {
   "cell_type": "markdown",
   "metadata": {},
   "source": [
    "# Terms proportional to [Z, X/2] (IZI, XZX, YZY, ZZZ)"
   ]
  },
  {
   "cell_type": "code",
   "execution_count": 9,
   "metadata": {},
   "outputs": [
    {
     "data": {
      "text/plain": [
       "'((((-I)^0)*(1*n200*n100*Cos[Θ2]*Cos[Θ1]) + ((-I)^2)*(1*n201*n101*Cos[Θ2]*Cos[Θ1]) + ((-I)^1)*(1*n200*n101*Cos[Θ2]*(-I)*Sin[Θ1]) + ((-I)^1)*(1*n201*n100*Cos[Θ2]*(-I)*Sin[Θ1]) + ((-I)^1)*(1*n200*n101*(-I)*Sin[Θ2]*Cos[Θ1]) + ((-I)^1)*(1*n201*n100*(-I)*Sin[Θ2]*Cos[Θ1]) + ((-I)^0)*(1*n200*n100*(-I)*Sin[Θ2]*(-I)*Sin[Θ1]) + ((-I)^2)*(1*n201*n101*(-I)*Sin[Θ2]*(-I)*Sin[Θ1]) + ((-I)^2)*(1*n210*n110*Cos[Θ2]*Cos[Θ1]) + ((-I)^4)*(-1*n211*n111*Cos[Θ2]*Cos[Θ1]) + ((-I)^3)*(-1*n210*n111*Cos[Θ2]*(-I)*Sin[Θ1]) + ((-I)^3)*(1*n211*n110*Cos[Θ2]*(-I)*Sin[Θ1]) + ((-I)^3)*(1*n210*n111*(-I)*Sin[Θ2]*Cos[Θ1]) + ((-I)^3)*(-1*n211*n110*(-I)*Sin[Θ2]*Cos[Θ1]) + ((-I)^2)*(-1*n210*n110*(-I)*Sin[Θ2]*(-I)*Sin[Θ1]) + ((-I)^4)*(1*n211*n111*(-I)*Sin[Θ2]*(-I)*Sin[Θ1]))*((I^0)*(1*n200*n100*Cos[Θ2]*Cos[Θ1]) + (I^2)*(1*n201*n101*Cos[Θ2]*Cos[Θ1]) + (I^1)*(1*n200*n101*Cos[Θ2]*I*Sin[Θ1]) + (I^1)*(1*n201*n100*Cos[Θ2]*I*Sin[Θ1]) + (I^1)*(1*n200*n101*I*Sin[Θ2]*Cos[Θ1]) + (I^1)*(1*n201*n100*I*Sin[Θ2]*Cos[Θ1]) + (I^0)*(1*n200*n100*I*Sin[Θ2]*I*Sin[Θ1]) + (I^2)*(1*n201*n101*I*Sin[Θ2]*I*Sin[Θ1]) + (I^2)*(1*n210*n110*Cos[Θ2]*Cos[Θ1]) + (I^4)*(-1*n211*n111*Cos[Θ2]*Cos[Θ1]) + (I^3)*(-1*n210*n111*Cos[Θ2]*I*Sin[Θ1]) + (I^3)*(1*n211*n110*Cos[Θ2]*I*Sin[Θ1]) + (I^3)*(1*n210*n111*I*Sin[Θ2]*Cos[Θ1]) + (I^3)*(-1*n211*n110*I*Sin[Θ2]*Cos[Θ1]) + (I^2)*(-1*n210*n110*I*Sin[Θ2]*I*Sin[Θ1]) + (I^4)*(1*n211*n111*I*Sin[Θ2]*I*Sin[Θ1])) + (((-I)^1)*(1*n200*n101*Cos[Θ2]*Cos[Θ1]) + ((-I)^1)*(1*n201*n100*Cos[Θ2]*Cos[Θ1]) + ((-I)^0)*(1*n200*n100*Cos[Θ2]*(-I)*Sin[Θ1]) + ((-I)^2)*(1*n201*n101*Cos[Θ2]*(-I)*Sin[Θ1]) + ((-I)^0)*(1*n200*n100*(-I)*Sin[Θ2]*Cos[Θ1]) + ((-I)^2)*(1*n201*n101*(-I)*Sin[Θ2]*Cos[Θ1]) + ((-I)^1)*(1*n200*n101*(-I)*Sin[Θ2]*(-I)*Sin[Θ1]) + ((-I)^1)*(1*n201*n100*(-I)*Sin[Θ2]*(-I)*Sin[Θ1]) + ((-I)^3)*(-1*n210*n111*Cos[Θ2]*Cos[Θ1]) + ((-I)^3)*(1*n211*n110*Cos[Θ2]*Cos[Θ1]) + ((-I)^2)*(1*n210*n110*Cos[Θ2]*(-I)*Sin[Θ1]) + ((-I)^4)*(-1*n211*n111*Cos[Θ2]*(-I)*Sin[Θ1]) + ((-I)^2)*(-1*n210*n110*(-I)*Sin[Θ2]*Cos[Θ1]) + ((-I)^4)*(1*n211*n111*(-I)*Sin[Θ2]*Cos[Θ1]) + ((-I)^3)*(1*n210*n111*(-I)*Sin[Θ2]*(-I)*Sin[Θ1]) + ((-I)^3)*(-1*n211*n110*(-I)*Sin[Θ2]*(-I)*Sin[Θ1]))*((I^1)*(1*n200*n101*Cos[Θ2]*Cos[Θ1]) + (I^1)*(1*n201*n100*Cos[Θ2]*Cos[Θ1]) + (I^0)*(1*n200*n100*Cos[Θ2]*I*Sin[Θ1]) + (I^2)*(1*n201*n101*Cos[Θ2]*I*Sin[Θ1]) + (I^0)*(1*n200*n100*I*Sin[Θ2]*Cos[Θ1]) + (I^2)*(1*n201*n101*I*Sin[Θ2]*Cos[Θ1]) + (I^1)*(1*n200*n101*I*Sin[Θ2]*I*Sin[Θ1]) + (I^1)*(1*n201*n100*I*Sin[Θ2]*I*Sin[Θ1]) + (I^3)*(-1*n210*n111*Cos[Θ2]*Cos[Θ1]) + (I^3)*(1*n211*n110*Cos[Θ2]*Cos[Θ1]) + (I^2)*(1*n210*n110*Cos[Θ2]*I*Sin[Θ1]) + (I^4)*(-1*n211*n111*Cos[Θ2]*I*Sin[Θ1]) + (I^2)*(-1*n210*n110*I*Sin[Θ2]*Cos[Θ1]) + (I^4)*(1*n211*n111*I*Sin[Θ2]*Cos[Θ1]) + (I^3)*(1*n210*n111*I*Sin[Θ2]*I*Sin[Θ1]) + (I^3)*(-1*n211*n110*I*Sin[Θ2]*I*Sin[Θ1]))) + ((-1)*((((-I)^1)*(1*n200*n110*Cos[Θ2]*Cos[Θ1]) + ((-I)^3)*(1*n201*n111*Cos[Θ2]*Cos[Θ1]) + ((-I)^2)*(-1*n200*n111*Cos[Θ2]*(-I)*Sin[Θ1]) + ((-I)^2)*(-1*n201*n110*Cos[Θ2]*(-I)*Sin[Θ1]) + ((-I)^2)*(1*n200*n111*(-I)*Sin[Θ2]*Cos[Θ1]) + ((-I)^2)*(1*n201*n110*(-I)*Sin[Θ2]*Cos[Θ1]) + ((-I)^1)*(-1*n200*n110*(-I)*Sin[Θ2]*(-I)*Sin[Θ1]) + ((-I)^3)*(-1*n201*n111*(-I)*Sin[Θ2]*(-I)*Sin[Θ1]) + ((-I)^1)*(1*n210*n100*Cos[Θ2]*Cos[Θ1]) + ((-I)^3)*(-1*n211*n101*Cos[Θ2]*Cos[Θ1]) + ((-I)^2)*(1*n210*n101*Cos[Θ2]*(-I)*Sin[Θ1]) + ((-I)^2)*(-1*n211*n100*Cos[Θ2]*(-I)*Sin[Θ1]) + ((-I)^2)*(1*n210*n101*(-I)*Sin[Θ2]*Cos[Θ1]) + ((-I)^2)*(-1*n211*n100*(-I)*Sin[Θ2]*Cos[Θ1]) + ((-I)^1)*(1*n210*n100*(-I)*Sin[Θ2]*(-I)*Sin[Θ1]) + ((-I)^3)*(-1*n211*n101*(-I)*Sin[Θ2]*(-I)*Sin[Θ1]))*((I^1)*(1*n200*n110*Cos[Θ2]*Cos[Θ1]) + (I^3)*(1*n201*n111*Cos[Θ2]*Cos[Θ1]) + (I^2)*(-1*n200*n111*Cos[Θ2]*I*Sin[Θ1]) + (I^2)*(-1*n201*n110*Cos[Θ2]*I*Sin[Θ1]) + (I^2)*(1*n200*n111*I*Sin[Θ2]*Cos[Θ1]) + (I^2)*(1*n201*n110*I*Sin[Θ2]*Cos[Θ1]) + (I^1)*(-1*n200*n110*I*Sin[Θ2]*I*Sin[Θ1]) + (I^3)*(-1*n201*n111*I*Sin[Θ2]*I*Sin[Θ1]) + (I^1)*(1*n210*n100*Cos[Θ2]*Cos[Θ1]) + (I^3)*(-1*n211*n101*Cos[Θ2]*Cos[Θ1]) + (I^2)*(1*n210*n101*Cos[Θ2]*I*Sin[Θ1]) + (I^2)*(-1*n211*n100*Cos[Θ2]*I*Sin[Θ1]) + (I^2)*(1*n210*n101*I*Sin[Θ2]*Cos[Θ1]) + (I^2)*(-1*n211*n100*I*Sin[Θ2]*Cos[Θ1]) + (I^1)*(1*n210*n100*I*Sin[Θ2]*I*Sin[Θ1]) + (I^3)*(-1*n211*n101*I*Sin[Θ2]*I*Sin[Θ1])) + (((-I))*(((-I)^2)*(1*n200*n111*Cos[Θ2]*Cos[Θ1]) + ((-I)^2)*(1*n201*n110*Cos[Θ2]*Cos[Θ1]) + ((-I)^1)*(-1*n200*n110*Cos[Θ2]*(-I)*Sin[Θ1]) + ((-I)^3)*(-1*n201*n111*Cos[Θ2]*(-I)*Sin[Θ1]) + ((-I)^1)*(1*n200*n110*(-I)*Sin[Θ2]*Cos[Θ1]) + ((-I)^3)*(1*n201*n111*(-I)*Sin[Θ2]*Cos[Θ1]) + ((-I)^2)*(-1*n200*n111*(-I)*Sin[Θ2]*(-I)*Sin[Θ1]) + ((-I)^2)*(-1*n201*n110*(-I)*Sin[Θ2]*(-I)*Sin[Θ1]) + ((-I)^2)*(-1*n210*n101*Cos[Θ2]*Cos[Θ1]) + ((-I)^2)*(1*n211*n100*Cos[Θ2]*Cos[Θ1]) + ((-I)^1)*(-1*n210*n100*Cos[Θ2]*(-I)*Sin[Θ1]) + ((-I)^3)*(1*n211*n101*Cos[Θ2]*(-I)*Sin[Θ1]) + ((-I)^1)*(-1*n210*n100*(-I)*Sin[Θ2]*Cos[Θ1]) + ((-I)^3)*(1*n211*n101*(-I)*Sin[Θ2]*Cos[Θ1]) + ((-I)^2)*(-1*n210*n101*(-I)*Sin[Θ2]*(-I)*Sin[Θ1]) + ((-I)^2)*(1*n211*n100*(-I)*Sin[Θ2]*(-I)*Sin[Θ1])))*((I)*((I^2)*(1*n200*n111*Cos[Θ2]*Cos[Θ1]) + (I^2)*(1*n201*n110*Cos[Θ2]*Cos[Θ1]) + (I^1)*(-1*n200*n110*Cos[Θ2]*I*Sin[Θ1]) + (I^3)*(-1*n201*n111*Cos[Θ2]*I*Sin[Θ1]) + (I^1)*(1*n200*n110*I*Sin[Θ2]*Cos[Θ1]) + (I^3)*(1*n201*n111*I*Sin[Θ2]*Cos[Θ1]) + (I^2)*(-1*n200*n111*I*Sin[Θ2]*I*Sin[Θ1]) + (I^2)*(-1*n201*n110*I*Sin[Θ2]*I*Sin[Θ1]) + (I^2)*(-1*n210*n101*Cos[Θ2]*Cos[Θ1]) + (I^2)*(1*n211*n100*Cos[Θ2]*Cos[Θ1]) + (I^1)*(-1*n210*n100*Cos[Θ2]*I*Sin[Θ1]) + (I^3)*(1*n211*n101*Cos[Θ2]*I*Sin[Θ1]) + (I^1)*(-1*n210*n100*I*Sin[Θ2]*Cos[Θ1]) + (I^3)*(1*n211*n101*I*Sin[Θ2]*Cos[Θ1]) + (I^2)*(-1*n210*n101*I*Sin[Θ2]*I*Sin[Θ1]) + (I^2)*(1*n211*n100*I*Sin[Θ2]*I*Sin[Θ1])))))'"
      ]
     },
     "execution_count": 9,
     "metadata": {},
     "output_type": "execute_result"
    }
   ],
   "source": [
    "def produce_sym(ops):\n",
    "    terms = []\n",
    "    for op in ops:\n",
    "        terms.append(Mult(Conj(op), op))\n",
    "    return ' + '.join(terms)\n",
    "Add(produce_sym([I, Z]), Mult('-1',produce_sym([X, Y])))"
   ]
  },
  {
   "cell_type": "code",
   "execution_count": null,
   "metadata": {},
   "outputs": [],
   "source": []
  }
 ],
 "metadata": {
  "kernelspec": {
   "display_name": "Python 3",
   "language": "python",
   "name": "python3"
  },
  "language_info": {
   "codemirror_mode": {
    "name": "ipython",
    "version": 3
   },
   "file_extension": ".py",
   "mimetype": "text/x-python",
   "name": "python",
   "nbconvert_exporter": "python",
   "pygments_lexer": "ipython3",
   "version": "3.8.5"
  }
 },
 "nbformat": 4,
 "nbformat_minor": 4
}
